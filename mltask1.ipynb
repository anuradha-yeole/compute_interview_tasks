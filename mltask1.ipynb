{
  "cells": [
    {
      "cell_type": "markdown",
      "metadata": {
        "id": "OzYCO6_rfLef"
      },
      "source": [
        "IMPORTING LIBRARIES"
      ]
    },
    {
      "cell_type": "code",
      "execution_count": 71,
      "metadata": {
        "id": "y8Z6rsc0fQ5f"
      },
      "outputs": [],
      "source": [
        "import pandas as pd\n",
        "import numpy as np\n",
        "import matplotlib.pyplot as plt"
      ]
    },
    {
      "cell_type": "markdown",
      "metadata": {
        "id": "quVc2W2nfqzx"
      },
      "source": [
        "IMPORTING DATASET"
      ]
    },
    {
      "cell_type": "code",
      "execution_count": 72,
      "metadata": {
        "id": "TXldn-XgfzFF"
      },
      "outputs": [],
      "source": [
        "dataset=pd.read_csv('train.csv')\n",
        "X=dataset.iloc[:,:-1]\n",
        "y=dataset.iloc[:,-1]"
      ]
    },
    {
      "cell_type": "markdown",
      "metadata": {
        "id": "JsP-2y7SjBx0"
      },
      "source": [
        "CHECKING NULL VALUES"
      ]
    },
    {
      "cell_type": "code",
      "execution_count": 73,
      "metadata": {
        "colab": {
          "base_uri": "https://localhost:8080/"
        },
        "id": "ZwcM9FUtjF6E",
        "outputId": "71105f66-6648-4ff8-e59c-b59cfa4c77e5"
      },
      "outputs": [
        {
          "data": {
            "text/plain": [
              "PassengerId      0\n",
              "Survived         0\n",
              "Pclass           0\n",
              "Name             0\n",
              "Sex              0\n",
              "Age            177\n",
              "SibSp            0\n",
              "Parch            0\n",
              "Ticket           0\n",
              "Fare             0\n",
              "Cabin          687\n",
              "Embarked         2\n",
              "dtype: int64"
            ]
          },
          "execution_count": 73,
          "metadata": {},
          "output_type": "execute_result"
        }
      ],
      "source": [
        "dataset.isnull().sum()"
      ]
    },
    {
      "cell_type": "markdown",
      "metadata": {
        "id": "yrETl0Z4gtM9"
      },
      "source": [
        "MISSING VALUES "
      ]
    },
    {
      "cell_type": "code",
      "execution_count": 74,
      "metadata": {
        "id": "Mu_wUw_qhjM4"
      },
      "outputs": [],
      "source": [
        "dataset['Age']=dataset['Age'].fillna(dataset['Age'].mean)#for column 'age'"
      ]
    },
    {
      "cell_type": "code",
      "execution_count": 75,
      "metadata": {
        "id": "TZ9AUO9HlnhP"
      },
      "outputs": [],
      "source": [
        "if  dataset['Cabin'].isnull().sum()>0.50*len('Cabin'):\n",
        "  dataset.drop(['Cabin'],axis=1,inplace=True)#for column 'Cabin'"
      ]
    },
    {
      "cell_type": "code",
      "execution_count": 76,
      "metadata": {
        "id": "r60B6iOhnTP0"
      },
      "outputs": [],
      "source": [
        "dataset['Embarked']=dataset['Embarked'].fillna(dataset['Embarked'].mode)#embarked"
      ]
    },
    {
      "cell_type": "markdown",
      "metadata": {
        "id": "G6pib45MooBp"
      },
      "source": [
        "RECHECKING NULL VALUES"
      ]
    },
    {
      "cell_type": "code",
      "execution_count": 77,
      "metadata": {
        "colab": {
          "base_uri": "https://localhost:8080/"
        },
        "id": "SsbUQTmYotGY",
        "outputId": "e5ec0b07-b18b-46b3-e9b3-b13ace597131"
      },
      "outputs": [
        {
          "data": {
            "text/plain": [
              "PassengerId    0\n",
              "Survived       0\n",
              "Pclass         0\n",
              "Name           0\n",
              "Sex            0\n",
              "Age            0\n",
              "SibSp          0\n",
              "Parch          0\n",
              "Ticket         0\n",
              "Fare           0\n",
              "Embarked       0\n",
              "dtype: int64"
            ]
          },
          "execution_count": 77,
          "metadata": {},
          "output_type": "execute_result"
        }
      ],
      "source": [
        "dataset.isnull().sum()"
      ]
    },
    {
      "cell_type": "markdown",
      "metadata": {
        "id": "vnluXpWGp0w-"
      },
      "source": [
        "WORKING ON COLUMN  EMBARKED"
      ]
    },
    {
      "cell_type": "code",
      "execution_count": 78,
      "metadata": {
        "colab": {
          "base_uri": "https://localhost:8080/"
        },
        "id": "YiJNve72qD-8",
        "outputId": "2b490662-d551-4f14-b48b-e3a6f4d34d2e"
      },
      "outputs": [
        {
          "name": "stdout",
          "output_type": "stream",
          "text": [
            "0      2\n",
            "1      0\n",
            "2      2\n",
            "3      2\n",
            "4      2\n",
            "      ..\n",
            "886    2\n",
            "887    2\n",
            "888    2\n",
            "889    0\n",
            "890    1\n",
            "Name: Embarked, Length: 891, dtype: object\n"
          ]
        }
      ],
      "source": [
        "dataset['Embarked'].rename({'Emabrked':'Embark'},inplace=True)#changing column name\n",
        "dataset['Embarked']=dataset['Embarked'].replace(['C','Q','S'],['0','1','2'])\n",
        "print(dataset['Embarked'])"
      ]
    },
    {
      "cell_type": "markdown",
      "metadata": {
        "id": "2zbzdzy_tSO-"
      },
      "source": [
        "RELATION BETWEEN PCLASS AND SURVIVED"
      ]
    },
    {
      "cell_type": "code",
      "execution_count": 79,
      "metadata": {
        "colab": {
          "base_uri": "https://localhost:8080/",
          "height": 279
        },
        "id": "32XKqiU9tZiv",
        "outputId": "f6632a60-3a16-4ffc-e901-4af7a6aae290"
      },
      "outputs": [
        {
          "data": {
            "image/png": "[encoded data removed]",
            "text/plain": [
              "<Figure size 432x288 with 1 Axes>"
            ]
          },
          "metadata": {
            "needs_background": "light"
          },
          "output_type": "display_data"
        }
      ],
      "source": [
        "import seaborn as sns\n",
        "\n",
        "sns.barplot(x = 'Survived',y = 'Pclass',data = pd.read_csv('train.csv'))\n",
        "plt.show()"
      ]
    },
    {
      "cell_type": "markdown",
      "metadata": {
        "id": "S3Vp3f0MupQ1"
      },
      "source": [
        "RElATION BETWEEN SURVIVED AND SEX"
      ]
    },
    {
      "cell_type": "code",
      "execution_count": 80,
      "metadata": {
        "colab": {
          "base_uri": "https://localhost:8080/",
          "height": 279
        },
        "id": "Xcvg1UvjuQo-",
        "outputId": "9fea7159-0f1a-4b06-b475-11de5cb46b8c"
      },
      "outputs": [
        {
          "data": {
            "image/png": "[encoded data removed]",
            "text/plain": [
              "<Figure size 432x288 with 1 Axes>"
            ]
          },
          "metadata": {
            "needs_background": "light"
          },
          "output_type": "display_data"
        }
      ],
      "source": [
        "import seaborn as sns\n",
        "\n",
        "sns.barplot(x = 'Survived',y = 'Sex',data = pd.read_csv('train.csv'))\n",
        "plt.show()"
      ]
    }
  ],
  "metadata": {
    "colab": {
      "provenance": []
    },
    "kernelspec": {
      "display_name": "Python 3",
      "name": "python3"
    },
    "language_info": {
      "name": "python"
    }
  },
  "nbformat": 4,
  "nbformat_minor": 0
}
