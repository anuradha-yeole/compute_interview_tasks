{
  "cells": [
    {
      "cell_type": "markdown",
      "metadata": {
        "id": "OzYCO6_rfLef"
      },
      "source": [
        "IMPORTING LIBRARIES"
      ]
    },
    {
      "cell_type": "code",
      "execution_count": null,
      "metadata": {
        "id": "y8Z6rsc0fQ5f"
      },
      "outputs": [],
      "source": [
        "import pandas as pd\n",
        "import numpy as np\n",
        "import matplotlib.pyplot as plt"
      ]
    },
    {
      "cell_type": "markdown",
      "metadata": {
        "id": "quVc2W2nfqzx"
      },
      "source": [
        "IMPORTING DATASET"
      ]
    },
    {
      "cell_type": "code",
      "execution_count": null,
      "metadata": {
        "id": "TXldn-XgfzFF"
      },
      "outputs": [],
      "source": [
        "dataset=pd.read_csv('train.csv')\n",
        "X=dataset.iloc[:,:-1]\n",
        "y=dataset.iloc[:,-1]"
      ]
    },
    {
      "cell_type": "markdown",
      "metadata": {
        "id": "JsP-2y7SjBx0"
      },
      "source": [
        "CHECKING NULL VALUES"
      ]
    },
    {
      "cell_type": "code",
      "execution_count": null,
      "metadata": {
        "colab": {
          "base_uri": "https://localhost:8080/"
        },
        "id": "ZwcM9FUtjF6E",
        "outputId": "edf8a50d-85cb-4114-d4a3-c9d301e85e98"
      },
      "outputs": [
        {
          "output_type": "execute_result",
          "data": {
            "text/plain": [
              "PassengerId      0\n",
              "Survived         0\n",
              "Pclass           0\n",
              "Name             0\n",
              "Sex              0\n",
              "Age            177\n",
              "SibSp            0\n",
              "Parch            0\n",
              "Ticket           0\n",
              "Fare             0\n",
              "Cabin          687\n",
              "Embarked         2\n",
              "dtype: int64"
            ]
          },
          "metadata": {},
          "execution_count": 3
        }
      ],
      "source": [
        "dataset.isnull().sum()"
      ]
    },
    {
      "cell_type": "markdown",
      "metadata": {
        "id": "yrETl0Z4gtM9"
      },
      "source": [
        "MISSING VALUES "
      ]
    },
    {
      "cell_type": "code",
      "execution_count": null,
      "metadata": {
        "id": "Mu_wUw_qhjM4"
      },
      "outputs": [],
      "source": [
        "dataset['Age']=dataset['Age'].fillna(dataset['Age'].mean)#for column 'age'"
      ]
    },
    {
      "cell_type": "code",
      "execution_count": null,
      "metadata": {
        "id": "TZ9AUO9HlnhP"
      },
      "outputs": [],
      "source": [
        "if  dataset['Cabin'].isnull().sum()>0.50*len('Cabin'):\n",
        "  dataset.drop(['Cabin'],axis=1,inplace=True)#for column 'Cabin'"
      ]
    },
    {
      "cell_type": "code",
      "execution_count": null,
      "metadata": {
        "id": "r60B6iOhnTP0"
      },
      "outputs": [],
      "source": [
        "dataset['Embarked']=dataset['Embarked'].fillna(dataset['Embarked'].mode)#embarked"
      ]
    },
    {
      "cell_type": "markdown",
      "metadata": {
        "id": "G6pib45MooBp"
      },
      "source": [
        "RECHECKING NULL VALUES"
      ]
    },
    {
      "cell_type": "code",
      "execution_count": null,
      "metadata": {
        "colab": {
          "base_uri": "https://localhost:8080/"
        },
        "id": "SsbUQTmYotGY",
        "outputId": "762553fe-b87f-4a06-e391-51c9d0760831"
      },
      "outputs": [
        {
          "output_type": "execute_result",
          "data": {
            "text/plain": [
              "PassengerId    0\n",
              "Survived       0\n",
              "Pclass         0\n",
              "Name           0\n",
              "Sex            0\n",
              "Age            0\n",
              "SibSp          0\n",
              "Parch          0\n",
              "Ticket         0\n",
              "Fare           0\n",
              "Embarked       0\n",
              "dtype: int64"
            ]
          },
          "metadata": {},
          "execution_count": 7
        }
      ],
      "source": [
        "dataset.isnull().sum()"
      ]
    },
    {
      "cell_type": "markdown",
      "metadata": {
        "id": "vnluXpWGp0w-"
      },
      "source": [
        "WORKING ON COLUMN  EMBARKED"
      ]
    },
    {
      "cell_type": "code",
      "execution_count": null,
      "metadata": {
        "colab": {
          "base_uri": "https://localhost:8080/"
        },
        "id": "YiJNve72qD-8",
        "outputId": "47865585-b234-4bac-ffed-da3231f65fa5"
      },
      "outputs": [
        {
          "output_type": "stream",
          "name": "stdout",
          "text": [
            "0      2\n",
            "1      0\n",
            "2      2\n",
            "3      2\n",
            "4      2\n",
            "      ..\n",
            "886    2\n",
            "887    2\n",
            "888    2\n",
            "889    0\n",
            "890    1\n",
            "Name: Embarked, Length: 891, dtype: object\n"
          ]
        }
      ],
      "source": [
        "dataset['Embarked'].rename({'Emabrked':'Embark'},inplace=True)#changing column name\n",
        "dataset['Embarked']=dataset['Embarked'].replace(['C','Q','S'],['0','1','2'])\n",
        "print(dataset['Embarked'])"
      ]
    },
    {
      "cell_type": "markdown",
      "metadata": {
        "id": "2zbzdzy_tSO-"
      },
      "source": [
        "RELATION BETWEEN PCLASS AND SURVIVED"
      ]
    },
    {
      "cell_type": "code",
      "execution_count": null,
      "metadata": {
        "colab": {
          "base_uri": "https://localhost:8080/",
          "height": 279
        },
        "id": "32XKqiU9tZiv",
        "outputId": "f3cba090-23b6-4d57-8b88-69f48a2399a8"
      },
      "outputs": [
        {
          "output_type": "display_data",
          "data": {
            "text/plain": [
              "<Figure size 432x288 with 1 Axes>"
            ],
            "image/png": "[encoded data removed]"
          },
          "metadata": {
            "needs_background": "light"
          }
        }
      ],
      "source": [
        "import seaborn as sns\n",
        "\n",
        "sns.barplot(x = 'Pclass',y = 'Survived',data = pd.read_csv('train.csv'))\n",
        "plt.show()"
      ]
    },
    {
      "cell_type": "markdown",
      "source": [
        "there are 3 categories of p class and chances of survival are as follows"
      ],
      "metadata": {
        "id": "-9k-4WKDSIHf"
      }
    },
    {
      "cell_type": "markdown",
      "source": [
        "the ratio of male to female in case of survived is 0.2:0.72"
      ],
      "metadata": {
        "id": "UP8Ta0tIRjcR"
      }
    },
    {
      "cell_type": "markdown",
      "metadata": {
        "id": "S3Vp3f0MupQ1"
      },
      "source": [
        "RElATION BETWEEN SURVIVED AND SEX"
      ]
    },
    {
      "cell_type": "code",
      "execution_count": null,
      "metadata": {
        "colab": {
          "base_uri": "https://localhost:8080/",
          "height": 279
        },
        "id": "Xcvg1UvjuQo-",
        "outputId": "105f0ef9-e2fe-4022-9ac2-8eb23d982212"
      },
      "outputs": [
        {
          "output_type": "display_data",
          "data": {
            "text/plain": [
              "<Figure size 432x288 with 1 Axes>"
            ],
            "image/png": "[encoded data removed]"
          },
          "metadata": {
            "needs_background": "light"
          }
        }
      ],
      "source": [
        "import seaborn as sns\n",
        "\n",
        "sns.barplot(x = 'Survived',y = 'Sex',data = pd.read_csv('train.csv'))\n",
        "plt.show()"
      ]
    },
    {
      "cell_type": "markdown",
      "source": [
        "the ratio of male to female in case of survived is 0.2:0.72\n"
      ],
      "metadata": {
        "id": "QB5yQut8RGpJ"
      }
    }
  ],
  "metadata": {
    "colab": {
      "provenance": []
    },
    "kernelspec": {
      "display_name": "Python 3.10.4 64-bit",
      "language": "python",
      "name": "python3"
    },
    "language_info": {
      "codemirror_mode": {
        "name": "ipython",
        "version": 3
      },
      "file_extension": ".py",
      "mimetype": "text/x-python",
      "name": "python",
      "nbconvert_exporter": "python",
      "pygments_lexer": "ipython3",
      "version": "3.10.4"
    },
    "vscode": {
      "interpreter": {
        "hash": "40bb30d69e5cba1efaddf6f9af18a624f1cc025f45f84844f5bfc1e7c6098f17"
      }
    }
  },
  "nbformat": 4,
  "nbformat_minor": 0
}