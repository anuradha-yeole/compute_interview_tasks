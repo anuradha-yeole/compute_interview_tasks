{
  "cells": [
    {
      "cell_type": "markdown",
      "metadata": {
        "id": "n5dIpwViqTCB"
      },
      "source": [
        "IMPORTING LIBRARIES\n"
      ]
    },
    {
      "cell_type": "code",
      "execution_count": 81,
      "metadata": {
        "id": "9qqtQl3oqgfR",
        "vscode": {
          "languageId": "python"
        }
      },
      "outputs": [],
      "source": [
        "import pandas as pd\n",
        "import numpy as np\n",
        "import matplotlib.pyplot as plt\n",
        "import matplotlib.colors as colors"
      ]
    },
    {
      "cell_type": "markdown",
      "metadata": {
        "id": "c74t5bYFq_Bt"
      },
      "source": [
        "IMPORTING DATASET"
      ]
    },
    {
      "cell_type": "code",
      "execution_count": 82,
      "metadata": {
        "id": "UB1u7yvprKR_",
        "vscode": {
          "languageId": "python"
        }
      },
      "outputs": [],
      "source": [
        "dataset = pd.read_csv('Compute_ML_Task.csv')\n",
        "X = dataset.iloc[:, :-1].values\n",
        "y = dataset.iloc[:, -1].values"
      ]
    },
    {
      "cell_type": "code",
      "execution_count": 83,
      "metadata": {
        "colab": {
          "base_uri": "https://localhost:8080/"
        },
        "id": "ttAegCcJtkfM",
        "outputId": "7fedaaf3-d6dd-45dc-9106-5014999060df",
        "vscode": {
          "languageId": "python"
        }
      },
      "outputs": [
        {
          "name": "stdout",
          "output_type": "stream",
          "text": [
            "[[1000025       5       1 ...       3       1       1]\n",
            " [1002945       5       4 ...       3       2       1]\n",
            " [1015425       3       1 ...       3       1       1]\n",
            " ...\n",
            " [ 888820       5      10 ...       8      10       2]\n",
            " [ 897471       4       8 ...      10       6       1]\n",
            " [ 897471       4       8 ...      10       4       1]]\n"
          ]
        }
      ],
      "source": [
        "print(X)"
      ]
    },
    {
      "cell_type": "code",
      "execution_count": 84,
      "metadata": {
        "colab": {
          "base_uri": "https://localhost:8080/"
        },
        "id": "kOLlQHRytq7A",
        "outputId": "e220a0c6-1766-4966-b6a7-bf29095fcf96",
        "vscode": {
          "languageId": "python"
        }
      },
      "outputs": [
        {
          "name": "stdout",
          "output_type": "stream",
          "text": [
            "[2 2 2 2 2 4 2 2 2 2 2 2 4 2 4 4 2 2 4 2 4 4 2 2 4 2 2 2 2 2 2 4 2 2 2 4 2\n",
            " 4 4 4 4 4 4 2 4 2 2 4 4 4 4 4 4 4 4 4 4 4 4 2 4 4 2 4 2 4 4 2 2 4 2 4 4 2\n",
            " 2 2 2 2 2 2 2 2 4 4 4 4 2 2 2 2 2 2 2 2 2 2 4 4 4 4 2 4 4 4 4 4 2 4 2 4 4\n",
            " 4 2 2 2 4 2 2 2 2 4 4 4 2 4 2 4 2 2 2 4 2 2 2 2 2 2 2 2 4 2 2 4 2 2 4 2 4\n",
            " 4 2 2 4 2 2 4 4 2 2 2 2 4 4 2 2 2 2 2 4 4 4 2 4 2 4 2 2 2 4 4 2 4 4 4 2 4\n",
            " 4 2 2 2 2 2 2 2 2 4 4 2 2 2 4 4 2 2 2 4 4 2 4 4 4 2 2 4 2 2 4 4 4 4 2 4 4\n",
            " 2 4 4 4 2 4 2 4 4 4 4 2 2 2 2 2 2 4 4 2 2 4 2 4 4 4 2 2 2 2 4 4 4 4 4 2 4\n",
            " 4 4 2 4 2 4 4 2 2 2 2 4 2 2 4 4 4 4 4 2 4 4 2 2 4 4 2 2 4 4 2 4 2 4 4 2 2\n",
            " 4 2 2 2 4 2 2 4 4 2 2 4 2 4 2 2 4 2 4 4 4 2 2 4 4 2 4 2 2 4 4 2 2 2 4 2 2\n",
            " 2 4 4 2 2 2 4 2 2 4 4 4 4 4 4 2 2 2 2 4 4 2 2 2 2 2 2 2 2 2 2 2 2 2 4 2 2\n",
            " 2 2 4 2 2 2 2 4 2 2 2 2 2 2 2 2 4 2 2 2 2 2 2 2 2 2 2 4 2 4 2 4 2 2 2 2 4\n",
            " 2 2 2 4 2 4 2 2 2 2 2 2 2 4 4 2 2 2 4 2 2 2 2 2 2 2 2 4 2 2 2 4 2 4 4 4 2\n",
            " 2 2 2 2 2 2 4 4 4 2 2 2 2 2 2 2 2 2 2 2 4 2 2 4 4 2 2 2 4 4 4 2 4 2 4 2 2\n",
            " 2 2 2 2 2 2 2 2 2 2 4 2 2 2 2 2 2 2 4 4 2 2 2 4 2 2 4 4 2 2 2 2 2 2 4 2 2\n",
            " 2 2 2 2 2 2 2 2 2 2 2 2 2 4 2 2 4 2 2 2 2 2 2 2 2 2 2 2 2 2 2 2 4 2 2 4 4\n",
            " 4 4 2 2 4 2 2 2 2 2 2 4 4 2 2 2 4 2 4 2 4 4 4 2 4 2 2 2 2 2 2 2 2 4 4 4 2\n",
            " 2 4 2 4 4 4 2 2 2 2 2 2 2 2 2 2 2 2 4 2 2 2 2 2 2 4 2 2 4 2 2 2 2 2 2 2 2\n",
            " 2 2 2 4 2 2 2 2 2 2 2 2 2 4 2 2 2 2 2 2 2 2 2 4 4 4 2 2 2 2 2 2 2 2 2 4 4\n",
            " 2 2 2 2 2 2 2 2 2 4 2 2 2 2 4 4 4]\n"
          ]
        }
      ],
      "source": [
        "print(y)"
      ]
    },
    {
      "cell_type": "markdown",
      "metadata": {
        "id": "Xrfy2hMet6Hf"
      },
      "source": [
        "SPLITTING DATA INTO TRAINING SET AND TEST SET"
      ]
    },
    {
      "cell_type": "code",
      "execution_count": 85,
      "metadata": {
        "id": "DM-Dv2m5u15G",
        "vscode": {
          "languageId": "python"
        }
      },
      "outputs": [],
      "source": [
        "from sklearn.model_selection import train_test_split\n",
        "X_train, X_test, y_train, y_test = train_test_split(X, y, test_size = 0.30, random_state =32)"
      ]
    },
    {
      "cell_type": "code",
      "execution_count": 86,
      "metadata": {
        "colab": {
          "base_uri": "https://localhost:8080/"
        },
        "id": "OUmVW_78vEz6",
        "outputId": "88574904-4c6b-4188-e59b-8d90c9cfbdd7",
        "vscode": {
          "languageId": "python"
        }
      },
      "outputs": [
        {
          "name": "stdout",
          "output_type": "stream",
          "text": [
            "[[1227244       1       1 ...       2       1       1]\n",
            " [ 837480       7       4 ...       6       9       1]\n",
            " [1178580       5       1 ...       2       1       1]\n",
            " ...\n",
            " [1156272       1       1 ...       3       1       1]\n",
            " [ 740492       1       1 ...       3       1       1]\n",
            " [1344121       8      10 ...       8       2       1]]\n"
          ]
        }
      ],
      "source": [
        "print(X_train)"
      ]
    },
    {
      "cell_type": "code",
      "execution_count": 87,
      "metadata": {
        "colab": {
          "base_uri": "https://localhost:8080/"
        },
        "id": "x4X5iPDOvJXA",
        "outputId": "f028d5c1-8f9d-4214-bc69-eb4d5791110c",
        "vscode": {
          "languageId": "python"
        }
      },
      "outputs": [
        {
          "name": "stdout",
          "output_type": "stream",
          "text": [
            "[[ 142932       7       6 ...       9      10       2]\n",
            " [1238410       2       3 ...       1       1       1]\n",
            " [ 667204       7       8 ...       8       8       4]\n",
            " ...\n",
            " [1197527       5       1 ...       2       1       1]\n",
            " [ 653777       8       3 ...       3       3       1]\n",
            " [1253955       8       7 ...       5      10       1]]\n"
          ]
        }
      ],
      "source": [
        "print(X_test)"
      ]
    },
    {
      "cell_type": "code",
      "execution_count": 88,
      "metadata": {
        "colab": {
          "base_uri": "https://localhost:8080/"
        },
        "id": "ABnHePtEvRno",
        "outputId": "2303e04b-0f66-42f0-b2c6-d1fb2facdf88",
        "vscode": {
          "languageId": "python"
        }
      },
      "outputs": [
        {
          "name": "stdout",
          "output_type": "stream",
          "text": [
            "[2 4 2 2 4 2 2 2 2 2 4 4 4 2 2 2 4 4 4 4 2 2 2 4 2 4 2 4 4 4 4 2 2 4 4 2 4\n",
            " 4 2 2 4 4 2 2 2 4 4 4 4 2 2 2 2 2 2 4 2 4 4 2 2 4 2 2 4 4 2 4 2 2 2 2 2 2\n",
            " 4 2 2 4 2 2 2 2 2 4 2 2 4 2 2 2 2 4 4 2 2 4 2 2 2 2 4 4 4 4 2 2 4 4 4 4 2\n",
            " 2 2 2 2 2 4 2 2 2 2 4 2 2 2 2 2 4 2 2 2 2 2 2 4 4 2 2 4 2 2 2 2 2 4 2 4 2\n",
            " 2 4 4 2 2 2 2 4 2 2 2 2 2 2 2 4 4 2 2 2 2 4 4 4 2 4 2 2 4 4 2 2 2 4 4 2 2\n",
            " 4 2 4 2 4 2 2 2 2 2 2 2 2 2 2 2 4 2 4 2 4 2 4 4 2 2 4 2 2 2 4 2 4 4 2 2 2\n",
            " 2 4 4 4 2 4 2 2 2 2 4 4 4 4 2 4 2 4 2 2 2 4 4 4 2 2 2 4 2 2 4 2 2 2 2 2 2\n",
            " 2 2 4 2 2 4 2 2 2 2 4 2 2 2 2 2 2 2 2 4 2 4 4 4 2 4 2 2 2 2 4 2 2 4 4 2 2\n",
            " 2 2 4 2 2 4 2 4 2 2 2 4 4 4 2 4 2 2 2 4 2 4 4 4 4 2 2 2 2 4 2 4 2 2 2 2 2\n",
            " 2 2 2 4 4 2 4 4 4 2 2 2 2 2 4 2 2 2 4 2 4 2 2 2 2 4 4 2 2 2 2 2 4 2 2 2 2\n",
            " 2 4 4 4 4 2 2 2 2 2 4 4 2 4 4 2 2 2 2 2 4 2 2 4 4 2 2 2 4 2 2 2 2 2 4 2 2\n",
            " 2 2 2 4 2 4 2 2 4 2 2 2 2 2 2 2 2 2 4 4 4 2 2 4 2 4 2 4 2 4 2 2 2 2 2 2 2\n",
            " 2 4 2 4 4 2 2 4 2 2 4 2 2 4 2 2 4 4 2 4 4 2 2 2 2 2 2 2 4 4 2 2 2 4]\n"
          ]
        }
      ],
      "source": [
        "print(y_train)"
      ]
    },
    {
      "cell_type": "code",
      "execution_count": 89,
      "metadata": {
        "colab": {
          "base_uri": "https://localhost:8080/"
        },
        "id": "ulqbovA5vViY",
        "outputId": "8957c895-44d0-4d41-f6d3-919b826a797c",
        "vscode": {
          "languageId": "python"
        }
      },
      "outputs": [
        {
          "name": "stdout",
          "output_type": "stream",
          "text": [
            "[4 2 4 4 2 2 2 2 2 2 4 2 2 4 2 2 4 2 2 4 4 2 2 2 4 4 2 2 4 2 4 2 2 4 2 2 2\n",
            " 4 2 2 2 2 4 4 2 2 2 2 2 2 4 2 4 4 2 2 2 4 2 2 2 2 4 2 2 4 4 2 2 2 2 2 4 2\n",
            " 4 4 4 2 4 2 4 4 2 2 2 2 2 4 2 2 2 4 4 2 2 4 4 2 2 4 2 2 4 4 2 4 2 4 2 2 4\n",
            " 2 4 2 4 2 2 2 4 2 2 2 4 2 2 4 2 2 4 4 4 4 2 2 2 2 2 4 4 2 4 2 4 2 2 2 2 2\n",
            " 2 2 4 2 4 4 2 2 2 2 4 2 4 2 2 4 2 4 4 2 2 2 2 2 2 4 2 2 4 4 2 2 2 4 2 2 4\n",
            " 4 2 4 2 2 4 2 2 2 2 2 2 2 2 2 2 2 2 4 4]\n"
          ]
        }
      ],
      "source": [
        "print(y_test)"
      ]
    },
    {
      "cell_type": "markdown",
      "metadata": {
        "id": "9HXAE-BOv8yb"
      },
      "source": [
        "Feature scaling"
      ]
    },
    {
      "cell_type": "code",
      "execution_count": 90,
      "metadata": {
        "id": "jb2VI-swwMZq",
        "vscode": {
          "languageId": "python"
        }
      },
      "outputs": [],
      "source": [
        "from sklearn.preprocessing import StandardScaler\n",
        "sc = StandardScaler()\n",
        "X_train = sc.fit_transform(X_train)\n",
        "X_test = sc.transform(X_test)"
      ]
    },
    {
      "cell_type": "code",
      "execution_count": 91,
      "metadata": {
        "colab": {
          "base_uri": "https://localhost:8080/"
        },
        "id": "_HkCPB_8wVbJ",
        "outputId": "aa2649a2-8d3a-4aed-ff3e-1e41d95daead",
        "vscode": {
          "languageId": "python"
        }
      },
      "outputs": [
        {
          "name": "stdout",
          "output_type": "stream",
          "text": [
            "[[ 0.18746958 -1.22600935 -0.70777162 ... -0.6039786  -0.59769075\n",
            "  -0.35540441]\n",
            " [-0.35653584  0.85827922  0.25335007 ...  1.01566668  2.072367\n",
            "  -0.35540441]\n",
            " [ 0.11954776  0.16351636 -0.70777162 ... -0.6039786  -0.59769075\n",
            "  -0.35540441]\n",
            " ...\n",
            " [ 0.08841181 -1.22600935 -0.70777162 ... -0.19906728 -0.59769075\n",
            "  -0.35540441]\n",
            " [-0.49190493 -1.22600935 -0.70777162 ... -0.19906728 -0.59769075\n",
            "  -0.35540441]\n",
            " [ 0.35059835  1.20566064  2.17559344 ...  1.82548932 -0.26393353\n",
            "  -0.35540441]]\n"
          ]
        }
      ],
      "source": [
        "print(X_train)"
      ]
    },
    {
      "cell_type": "code",
      "execution_count": 92,
      "metadata": {
        "colab": {
          "base_uri": "https://localhost:8080/"
        },
        "id": "2uqqxu4Uwaek",
        "outputId": "375795c6-06ea-45ad-ea2a-580c0222c567",
        "vscode": {
          "languageId": "python"
        }
      },
      "outputs": [
        {
          "name": "stdout",
          "output_type": "stream",
          "text": [
            "[[-1.32593753  0.85827922  0.89409786 ...  2.23040064  2.40612422\n",
            "   0.18390768]\n",
            " [ 0.20305431 -0.87862792 -0.06702383 ... -1.00888992 -0.59769075\n",
            "  -0.35540441]\n",
            " [-0.59419522  0.85827922  1.53484565 ...  1.82548932  1.73860978\n",
            "   1.26253184]\n",
            " ...\n",
            " [ 0.14599267  0.16351636 -0.70777162 ... -0.6039786  -0.59769075\n",
            "  -0.35540441]\n",
            " [-0.61293569  1.20566064 -0.06702383 ... -0.19906728  0.06982369\n",
            "  -0.35540441]\n",
            " [ 0.22475094  1.20566064  1.21447176 ...  0.61075536  2.40612422\n",
            "  -0.35540441]]\n"
          ]
        }
      ],
      "source": [
        "print(X_test)"
      ]
    },
    {
      "cell_type": "markdown",
      "metadata": {
        "id": "-ZdbQXaewosb"
      },
      "source": [
        "LOGISTIC REGRESSION ON TRAINING MODEL"
      ]
    },
    {
      "cell_type": "code",
      "execution_count": 93,
      "metadata": {
        "colab": {
          "base_uri": "https://localhost:8080/"
        },
        "id": "-NlnTbB7wzup",
        "outputId": "977e4a33-7cea-4277-80cb-afb8052d1669",
        "vscode": {
          "languageId": "python"
        }
      },
      "outputs": [
        {
          "data": {
            "text/plain": [
              "LogisticRegression(random_state=32)"
            ]
          },
          "execution_count": 93,
          "metadata": {},
          "output_type": "execute_result"
        }
      ],
      "source": [
        "from sklearn.linear_model import LogisticRegression\n",
        "classifier = LogisticRegression(random_state = 32)\n",
        "classifier.fit(X_train, y_train)"
      ]
    },
    {
      "cell_type": "markdown",
      "metadata": {
        "id": "tKGGwmO0xY_V"
      },
      "source": [
        "PREDICTING TEST RESULT"
      ]
    },
    {
      "cell_type": "code",
      "execution_count": 94,
      "metadata": {
        "colab": {
          "base_uri": "https://localhost:8080/"
        },
        "id": "rERYonhdxegt",
        "outputId": "08031c56-1b19-4c25-f2d6-9c771fd8c637",
        "vscode": {
          "languageId": "python"
        }
      },
      "outputs": [
        {
          "name": "stdout",
          "output_type": "stream",
          "text": [
            "[[4 4]\n",
            " [2 2]\n",
            " [4 4]\n",
            " [4 4]\n",
            " [2 2]\n",
            " [2 2]\n",
            " [2 2]\n",
            " [2 2]\n",
            " [2 2]\n",
            " [2 2]\n",
            " [4 4]\n",
            " [2 2]\n",
            " [2 2]\n",
            " [4 4]\n",
            " [2 2]\n",
            " [2 2]\n",
            " [4 4]\n",
            " [2 2]\n",
            " [2 2]\n",
            " [4 4]\n",
            " [2 4]\n",
            " [2 2]\n",
            " [2 2]\n",
            " [2 2]\n",
            " [4 4]\n",
            " [4 4]\n",
            " [2 2]\n",
            " [2 2]\n",
            " [4 4]\n",
            " [2 2]\n",
            " [4 4]\n",
            " [2 2]\n",
            " [2 2]\n",
            " [4 4]\n",
            " [2 2]\n",
            " [2 2]\n",
            " [2 2]\n",
            " [4 4]\n",
            " [2 2]\n",
            " [2 2]\n",
            " [2 2]\n",
            " [2 2]\n",
            " [4 4]\n",
            " [4 4]\n",
            " [2 2]\n",
            " [2 2]\n",
            " [2 2]\n",
            " [2 2]\n",
            " [2 2]\n",
            " [2 2]\n",
            " [4 4]\n",
            " [2 2]\n",
            " [4 4]\n",
            " [2 4]\n",
            " [2 2]\n",
            " [2 2]\n",
            " [2 2]\n",
            " [4 4]\n",
            " [2 2]\n",
            " [2 2]\n",
            " [2 2]\n",
            " [2 2]\n",
            " [4 4]\n",
            " [2 2]\n",
            " [2 2]\n",
            " [2 4]\n",
            " [4 4]\n",
            " [2 2]\n",
            " [2 2]\n",
            " [2 2]\n",
            " [2 2]\n",
            " [2 2]\n",
            " [4 4]\n",
            " [2 2]\n",
            " [4 4]\n",
            " [4 4]\n",
            " [4 4]\n",
            " [2 2]\n",
            " [4 4]\n",
            " [2 2]\n",
            " [4 4]\n",
            " [4 4]\n",
            " [2 2]\n",
            " [2 2]\n",
            " [2 2]\n",
            " [2 2]\n",
            " [2 2]\n",
            " [4 4]\n",
            " [2 2]\n",
            " [2 2]\n",
            " [2 2]\n",
            " [4 4]\n",
            " [4 4]\n",
            " [2 2]\n",
            " [2 2]\n",
            " [4 4]\n",
            " [4 4]\n",
            " [2 2]\n",
            " [2 2]\n",
            " [4 4]\n",
            " [2 2]\n",
            " [4 2]\n",
            " [4 4]\n",
            " [4 4]\n",
            " [2 2]\n",
            " [4 4]\n",
            " [2 2]\n",
            " [4 4]\n",
            " [2 2]\n",
            " [2 2]\n",
            " [4 4]\n",
            " [2 2]\n",
            " [4 4]\n",
            " [2 2]\n",
            " [2 4]\n",
            " [2 2]\n",
            " [2 2]\n",
            " [2 2]\n",
            " [4 4]\n",
            " [2 2]\n",
            " [2 2]\n",
            " [2 2]\n",
            " [2 4]\n",
            " [2 2]\n",
            " [2 2]\n",
            " [4 4]\n",
            " [2 2]\n",
            " [2 2]\n",
            " [4 4]\n",
            " [4 4]\n",
            " [4 4]\n",
            " [4 4]\n",
            " [2 2]\n",
            " [2 2]\n",
            " [2 2]\n",
            " [2 2]\n",
            " [2 2]\n",
            " [4 4]\n",
            " [4 4]\n",
            " [2 2]\n",
            " [4 4]\n",
            " [2 2]\n",
            " [4 4]\n",
            " [2 2]\n",
            " [2 2]\n",
            " [2 2]\n",
            " [2 2]\n",
            " [2 2]\n",
            " [2 2]\n",
            " [2 2]\n",
            " [4 4]\n",
            " [2 2]\n",
            " [4 4]\n",
            " [4 4]\n",
            " [2 2]\n",
            " [2 2]\n",
            " [2 2]\n",
            " [2 2]\n",
            " [4 4]\n",
            " [2 2]\n",
            " [4 4]\n",
            " [2 2]\n",
            " [2 2]\n",
            " [4 4]\n",
            " [2 2]\n",
            " [4 4]\n",
            " [4 4]\n",
            " [2 2]\n",
            " [2 2]\n",
            " [2 2]\n",
            " [2 2]\n",
            " [2 2]\n",
            " [2 2]\n",
            " [4 4]\n",
            " [2 2]\n",
            " [2 2]\n",
            " [4 4]\n",
            " [4 4]\n",
            " [2 2]\n",
            " [2 2]\n",
            " [2 2]\n",
            " [4 4]\n",
            " [2 2]\n",
            " [2 2]\n",
            " [4 4]\n",
            " [4 4]\n",
            " [2 2]\n",
            " [4 4]\n",
            " [2 2]\n",
            " [2 2]\n",
            " [4 4]\n",
            " [2 2]\n",
            " [2 2]\n",
            " [2 2]\n",
            " [2 2]\n",
            " [2 2]\n",
            " [2 2]\n",
            " [2 2]\n",
            " [2 2]\n",
            " [2 2]\n",
            " [2 2]\n",
            " [2 2]\n",
            " [2 2]\n",
            " [4 4]\n",
            " [4 4]]\n"
          ]
        }
      ],
      "source": [
        "y_p = classifier.predict(X_test)\n",
        "print(np.concatenate((y_p.reshape(len(y_p),1), y_test.reshape(len(y_test),1)),1))"
      ]
    },
    {
      "cell_type": "markdown",
      "metadata": {
        "id": "xlz1TELnyCl2"
      },
      "source": [
        "CONFUSION MATRIX"
      ]
    },
    {
      "cell_type": "code",
      "execution_count": 95,
      "metadata": {
        "colab": {
          "base_uri": "https://localhost:8080/"
        },
        "id": "cts3hEJTyOJf",
        "outputId": "7e223f70-74ab-43c7-9131-d49179f8840c",
        "vscode": {
          "languageId": "python"
        }
      },
      "outputs": [
        {
          "name": "stdout",
          "output_type": "stream",
          "text": [
            "[[132   1]\n",
            " [  5  67]]\n"
          ]
        },
        {
          "data": {
            "text/plain": [
              "0.9707317073170731"
            ]
          },
          "execution_count": 95,
          "metadata": {},
          "output_type": "execute_result"
        }
      ],
      "source": [
        "from sklearn.metrics import confusion_matrix, accuracy_score\n",
        "cm = confusion_matrix(y_test, y_p)\n",
        "print(cm)\n",
        "accuracy_score(y_test, y_p)"
      ]
    },
    {
      "cell_type": "markdown",
      "metadata": {
        "id": "9Fidfv37ycxa"
      },
      "source": [
        "GRAPHS"
      ]
    },
    {
      "cell_type": "code",
      "execution_count": 110,
      "metadata": {
        "colab": {
          "base_uri": "https://localhost:8080/",
          "height": 280
        },
        "id": "_m9FG8FVX_vL",
        "outputId": "74af5ac2-bb41-4047-8794-e93598ced3f5",
        "vscode": {
          "languageId": "python"
        }
      },
      "outputs": [
        {
          "data": {
            "image/png": "[encoded data removed]",
            "text/plain": [
              "<Figure size 432x288 with 1 Axes>"
            ]
          },
          "metadata": {
            "needs_background": "light"
          },
          "output_type": "display_data"
        }
      ],
      "source": [
        "import seaborn as sns\n",
        "\n",
        "sns.barplot(x = 'Class',y = 'Mitoses',data = pd.read_csv('Compute_ML_Task.csv'))\n",
        "plt.show()"
      ]
    },
    {
      "cell_type": "code",
      "execution_count": 114,
      "metadata": {
        "colab": {
          "base_uri": "https://localhost:8080/",
          "height": 279
        },
        "id": "J5NTpoKxbmBk",
        "outputId": "a9699b68-d0eb-47c9-b427-a678efa4447d",
        "vscode": {
          "languageId": "python"
        }
      },
      "outputs": [
        {
          "data": {
            "image/png": "[encoded data removed]",
            "text/plain": [
              "<Figure size 432x288 with 1 Axes>"
            ]
          },
          "metadata": {
            "needs_background": "light"
          },
          "output_type": "display_data"
        }
      ],
      "source": [
        "import seaborn as sns\n",
        "\n",
        "sns.kdeplot(x = 'Class',y = 'Bare Nuclei',data = pd.read_csv('Compute_ML_Task.csv'))\n",
        "plt.show()"
      ]
    }
  ],
  "metadata": {
    "colab": {
      "collapsed_sections": [],
      "provenance": []
    },
    "kernelspec": {
      "display_name": "Python 3",
      "name": "python3"
    }
  },
  "nbformat": 4,
  "nbformat_minor": 0
}
